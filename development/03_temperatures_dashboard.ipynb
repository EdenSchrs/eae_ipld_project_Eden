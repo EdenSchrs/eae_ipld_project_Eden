{
 "cells": [
  {
   "cell_type": "markdown",
   "metadata": {},
   "source": [
    "# Project 3: Temperatures Dashboard\n",
    "\n",
    "In this project, we will analyze a dataset with temperatures from 10 cities around the world extracting some interesting insights and developing two charts about them. We will be using once more Pandas and Matplotlib, but this time we will convert a column into timestamp date type, so we will be able to do some time sereis analysis and plots.\n",
    "\n",
    "Data extracted from: https://www.kaggle.com/datasets/sudalairajkumar/daily-temperature-of-major-cities (with some cleaning and modifications).\n",
    "\n",
    "\n",
    "### Project Tasks:\n",
    "\n",
    "- `3.1.` Load the dataset from the defined data_path and display the first 5 rows.\n",
    "\n",
    "- `3.2.` Create a new column called `AvgTemperatureCelsius` that contains the temperature in Celsius degrees.\n",
    "\n",
    "- `3.3.` How many different countries are there? Provide a list of them.\n",
    "\n",
    "- `3.4.` What is the minimum and maximum timestamps?\n",
    "\n",
    "- `3.5.` What is the global minimum and maximum temperature? Find the city and the date of each of them.\n",
    "\n",
    "- `3.6.` For a given city and a range of dates (start and end):\n",
    "  - Make a line plot with the temperature reads of that city during the selected time period, the x axis has to be the timestamp column.\n",
    "  - Make a histogram of the temperature reads of that city during the selected time period.\n",
    "  - Make sure that all plots include a title, axis labels and a legend.\n",
    "\n",
    "- `3.7.` Now repeat the previous question but for a list of cities instead of a single one:\n",
    "  - Make a line plot with the temperature reads of the cities in the list, for the selected time period, every city has to be a different line with a different color, the x axis has to be the timestamp column.\n",
    "  - Make a histogram of the temperature reads of a list of selected cities, for the selected time period, every city has to be its own distribution with a different color.\n",
    "  - Make sure that all plots include a title, axis labels and a legend.\n"
   ]
  },
  {
   "cell_type": "code",
   "execution_count": 2,
   "metadata": {},
   "outputs": [],
   "source": [
    "import pandas as pd\n",
    "import matplotlib.pyplot as plt"
   ]
  },
  {
   "cell_type": "code",
   "execution_count": 3,
   "metadata": {},
   "outputs": [
    {
     "data": {
      "text/html": [
       "<div>\n",
       "<style scoped>\n",
       "    .dataframe tbody tr th:only-of-type {\n",
       "        vertical-align: middle;\n",
       "    }\n",
       "\n",
       "    .dataframe tbody tr th {\n",
       "        vertical-align: top;\n",
       "    }\n",
       "\n",
       "    .dataframe thead th {\n",
       "        text-align: right;\n",
       "    }\n",
       "</style>\n",
       "<table border=\"1\" class=\"dataframe\">\n",
       "  <thead>\n",
       "    <tr style=\"text-align: right;\">\n",
       "      <th></th>\n",
       "      <th>Country</th>\n",
       "      <th>City</th>\n",
       "      <th>AvgTemperatureFahrenheit</th>\n",
       "      <th>Date</th>\n",
       "      <th>Month</th>\n",
       "      <th>Year</th>\n",
       "    </tr>\n",
       "  </thead>\n",
       "  <tbody>\n",
       "    <tr>\n",
       "      <th>0</th>\n",
       "      <td>Argentina</td>\n",
       "      <td>Buenos Aires</td>\n",
       "      <td>79.5</td>\n",
       "      <td>2000-01-01</td>\n",
       "      <td>1</td>\n",
       "      <td>2000</td>\n",
       "    </tr>\n",
       "    <tr>\n",
       "      <th>1</th>\n",
       "      <td>Argentina</td>\n",
       "      <td>Buenos Aires</td>\n",
       "      <td>78.8</td>\n",
       "      <td>2000-01-02</td>\n",
       "      <td>1</td>\n",
       "      <td>2000</td>\n",
       "    </tr>\n",
       "    <tr>\n",
       "      <th>2</th>\n",
       "      <td>Argentina</td>\n",
       "      <td>Buenos Aires</td>\n",
       "      <td>74.3</td>\n",
       "      <td>2000-01-03</td>\n",
       "      <td>1</td>\n",
       "      <td>2000</td>\n",
       "    </tr>\n",
       "    <tr>\n",
       "      <th>3</th>\n",
       "      <td>Argentina</td>\n",
       "      <td>Buenos Aires</td>\n",
       "      <td>79.0</td>\n",
       "      <td>2000-01-04</td>\n",
       "      <td>1</td>\n",
       "      <td>2000</td>\n",
       "    </tr>\n",
       "    <tr>\n",
       "      <th>4</th>\n",
       "      <td>Argentina</td>\n",
       "      <td>Buenos Aires</td>\n",
       "      <td>77.1</td>\n",
       "      <td>2000-01-05</td>\n",
       "      <td>1</td>\n",
       "      <td>2000</td>\n",
       "    </tr>\n",
       "  </tbody>\n",
       "</table>\n",
       "</div>"
      ],
      "text/plain": [
       "     Country          City  AvgTemperatureFahrenheit        Date  Month  Year\n",
       "0  Argentina  Buenos Aires                      79.5  2000-01-01      1  2000\n",
       "1  Argentina  Buenos Aires                      78.8  2000-01-02      1  2000\n",
       "2  Argentina  Buenos Aires                      74.3  2000-01-03      1  2000\n",
       "3  Argentina  Buenos Aires                      79.0  2000-01-04      1  2000\n",
       "4  Argentina  Buenos Aires                      77.1  2000-01-05      1  2000"
      ]
     },
     "execution_count": 3,
     "metadata": {},
     "output_type": "execute_result"
    }
   ],
   "source": [
    "# Ex 3.1: Load the dataset from the defined data_path and display the first 5 rows.\n",
    "\n",
    "data_path = \"/Users/edenschreurs/Documents/IPL EAE code/eae_ipld_project_Eden/data/cities_temperatures.csv\"\n",
    "\n",
    "temps_df = pd.read_csv(data_path)\n",
    "\n",
    "temps_df.head(5)"
   ]
  },
  {
   "cell_type": "code",
   "execution_count": 4,
   "metadata": {},
   "outputs": [],
   "source": [
    "# Converting the date column to datetime date format in order to be able to analyze better the time series and plot it\n",
    "temps_df[\"Date\"] = pd.to_datetime(temps_df[\"Date\"]).dt.date"
   ]
  },
  {
   "cell_type": "code",
   "execution_count": 27,
   "metadata": {},
   "outputs": [
    {
     "data": {
      "text/html": [
       "<div>\n",
       "<style scoped>\n",
       "    .dataframe tbody tr th:only-of-type {\n",
       "        vertical-align: middle;\n",
       "    }\n",
       "\n",
       "    .dataframe tbody tr th {\n",
       "        vertical-align: top;\n",
       "    }\n",
       "\n",
       "    .dataframe thead th {\n",
       "        text-align: right;\n",
       "    }\n",
       "</style>\n",
       "<table border=\"1\" class=\"dataframe\">\n",
       "  <thead>\n",
       "    <tr style=\"text-align: right;\">\n",
       "      <th></th>\n",
       "      <th>Country</th>\n",
       "      <th>City</th>\n",
       "      <th>AvgTemperatureFahrenheit</th>\n",
       "      <th>Date</th>\n",
       "      <th>Month</th>\n",
       "      <th>Year</th>\n",
       "      <th>AvgTemperatureCelsius</th>\n",
       "    </tr>\n",
       "  </thead>\n",
       "  <tbody>\n",
       "    <tr>\n",
       "      <th>0</th>\n",
       "      <td>Argentina</td>\n",
       "      <td>Buenos Aires</td>\n",
       "      <td>79.5</td>\n",
       "      <td>2000-01-01</td>\n",
       "      <td>1</td>\n",
       "      <td>2000</td>\n",
       "      <td>26.388889</td>\n",
       "    </tr>\n",
       "    <tr>\n",
       "      <th>1</th>\n",
       "      <td>Argentina</td>\n",
       "      <td>Buenos Aires</td>\n",
       "      <td>78.8</td>\n",
       "      <td>2000-01-02</td>\n",
       "      <td>1</td>\n",
       "      <td>2000</td>\n",
       "      <td>26.000000</td>\n",
       "    </tr>\n",
       "    <tr>\n",
       "      <th>2</th>\n",
       "      <td>Argentina</td>\n",
       "      <td>Buenos Aires</td>\n",
       "      <td>74.3</td>\n",
       "      <td>2000-01-03</td>\n",
       "      <td>1</td>\n",
       "      <td>2000</td>\n",
       "      <td>23.500000</td>\n",
       "    </tr>\n",
       "    <tr>\n",
       "      <th>3</th>\n",
       "      <td>Argentina</td>\n",
       "      <td>Buenos Aires</td>\n",
       "      <td>79.0</td>\n",
       "      <td>2000-01-04</td>\n",
       "      <td>1</td>\n",
       "      <td>2000</td>\n",
       "      <td>26.111111</td>\n",
       "    </tr>\n",
       "    <tr>\n",
       "      <th>4</th>\n",
       "      <td>Argentina</td>\n",
       "      <td>Buenos Aires</td>\n",
       "      <td>77.1</td>\n",
       "      <td>2000-01-05</td>\n",
       "      <td>1</td>\n",
       "      <td>2000</td>\n",
       "      <td>25.055556</td>\n",
       "    </tr>\n",
       "  </tbody>\n",
       "</table>\n",
       "</div>"
      ],
      "text/plain": [
       "     Country          City  AvgTemperatureFahrenheit        Date  Month  Year  \\\n",
       "0  Argentina  Buenos Aires                      79.5  2000-01-01      1  2000   \n",
       "1  Argentina  Buenos Aires                      78.8  2000-01-02      1  2000   \n",
       "2  Argentina  Buenos Aires                      74.3  2000-01-03      1  2000   \n",
       "3  Argentina  Buenos Aires                      79.0  2000-01-04      1  2000   \n",
       "4  Argentina  Buenos Aires                      77.1  2000-01-05      1  2000   \n",
       "\n",
       "   AvgTemperatureCelsius  \n",
       "0              26.388889  \n",
       "1              26.000000  \n",
       "2              23.500000  \n",
       "3              26.111111  \n",
       "4              25.055556  "
      ]
     },
     "execution_count": 27,
     "metadata": {},
     "output_type": "execute_result"
    }
   ],
   "source": [
    "# Ex 3.2: Create a new column called `AvgTemperatureCelsius` that contains the temperature in Celsius degrees.\n",
    "\n",
    "temps_df[\"AvgTemperatureCelsius\"] = temps_df[\"AvgTemperatureFahrenheit\"].apply(lambda x: (5/9) * (x - 32))\n",
    "\n",
    "temps_df.head(5)"
   ]
  },
  {
   "cell_type": "code",
   "execution_count": 6,
   "metadata": {},
   "outputs": [
    {
     "name": "stdout",
     "output_type": "stream",
     "text": [
      "There are 10 cities with temperature data which are the following: ['Buenos Aires', 'Canberra', 'Bogota', 'Cairo', 'Munich', 'Calcutta', 'Tokyo', 'Dakar', 'Capetown', 'Washington']\n"
     ]
    }
   ],
   "source": [
    "# Ex 3.3: How many different cities are there? Provide a list of them.\n",
    "\n",
    "unique_cities_list = temps_df['City'].unique()\n",
    "\n",
    "print(f\"There are {len(unique_cities_list)} cities with temperature data which are the following: {list(unique_cities_list)}\")"
   ]
  },
  {
   "cell_type": "code",
   "execution_count": 7,
   "metadata": {},
   "outputs": [
    {
     "name": "stdout",
     "output_type": "stream",
     "text": [
      "The minimum date for the available temperature data is 2000-01-01 and the maximum date is 2019-12-31\n"
     ]
    }
   ],
   "source": [
    "# Ex 3.4: What are the minimum and maximum dates?\n",
    "\n",
    "min_date = temps_df['Date'].min()\n",
    "max_date = temps_df['Date'].max()\n",
    "\n",
    "print(f\"The minimum date for the available temperature data is {temps_df['Date'].min()} and the maximum date is {temps_df['Date'].max()}\")"
   ]
  },
  {
   "cell_type": "code",
   "execution_count": 36,
   "metadata": {},
   "outputs": [
    {
     "name": "stdout",
     "output_type": "stream",
     "text": [
      "Cairo\n",
      "2019-05-23\n"
     ]
    }
   ],
   "source": [
    "# Ex 3.5: What are the global minimum and maximum temperatures? Find the city and the date of each of them. Better if they are in C here not F.\n",
    "\n",
    "min_temp = temps_df['AvgTemperatureCelsius'].min()\n",
    "max_temp = temps_df['AvgTemperatureCelsius'].max()\n",
    "\n",
    "min_temp_city = temps_df[temps_df['AvgTemperatureCelsius'] == min_temp]['City'].values[0]\n",
    "min_temp_date = temps_df[temps_df['AvgTemperatureCelsius'] == min_temp]['Date'].values[0]\n",
    "\n",
    "\n",
    "max_temp_city = temps_df[temps_df['AvgTemperatureCelsius'] == max_temp]['City'].values[0]\n",
    "max_temp_date = temps_df[temps_df['AvgTemperatureCelsius'] == max_temp]['Date'].values[0]\n",
    "\n",
    "# TODO: print a message with the min temperature, its city and date, and then another message with the max temperature, its city and date"
   ]
  },
  {
   "cell_type": "code",
   "execution_count": 24,
   "metadata": {},
   "outputs": [
    {
     "name": "stderr",
     "output_type": "stream",
     "text": [
      "No artists with labels found to put in legend.  Note that artists whose label start with an underscore are ignored when legend() is called with no argument.\n"
     ]
    },
    {
     "data": {
      "image/png": "[encoded data removed]",
      "text/plain": [
       "<Figure size 1000x500 with 1 Axes>"
      ]
     },
     "metadata": {},
     "output_type": "display_data"
    }
   ],
   "source": [
    "# Ex 3.6: For a given city and a range of dates (start and end):\n",
    "#   - Make a line plot with the temperature reads of that city during the selected time period, the x axis has to be the timestamp column.\n",
    "#   - Make a histogram of the temperature reads of that city during the selected time period.\n",
    "#   - Make sure that all plots include a title, axis labels and a legend.\n",
    "\n",
    "city = \"Munich\"\n",
    "start_date = pd.to_datetime(\"2008-01-01\").date()\n",
    "end_date = pd.to_datetime(\"2010-12-31\").date()\n",
    "\n",
    "city_df = [temps_df['City'] == Munich]          # TODO: get a dataframe with the rows of the selected city\n",
    "\n",
    "city_df_period = None   # TODO: get a dataframe with the rows of the selected city and the selected period of time using the Date column and any of the <, >, <=, >= operators to compare with start_date and end_date\n",
    "\n",
    "plt.figure(figsize=(10, 5))\n",
    "\n",
    "# TODO: Uncomment and complete the following lines to plot the line plot using the city_df_period AvgTemperatureCelsius column as the y axis and the Date column as the x axis\n",
    "\n",
    "# plt.plot()    # TODO\n",
    "# plt.title()   # TODO\n",
    "# plt.xlabel()  # TODO\n",
    "# plt.ylabel()  # TODO\n",
    "plt.legend()\n",
    "\n",
    "plt.show()\n"
   ]
  },
  {
   "cell_type": "code",
   "execution_count": null,
   "metadata": {},
   "outputs": [],
   "source": [
    "# TODO: Build the histogram plot using the city_df_period AvgTemperatureCelsius column as the data to plot\n",
    "\n",
    "plt.figure(figsize=(10, 5))\n",
    "\n",
    "# plt.hist()    # TODO: use the city_df_period AvgTemperatureCelsius column as the data to plot, you can use the parameter bins=20\n",
    "# plt.title()   # TODO\n",
    "# plt.xlabel()  # TODO\n",
    "# plt.ylabel()  # TODO\n",
    "\n",
    "plt.show()"
   ]
  },
  {
   "cell_type": "code",
   "execution_count": null,
   "metadata": {},
   "outputs": [],
   "source": [
    "# Ex 3.7: Now repeat the previous question but for a list of cities:\n",
    "#   - Make a line plot with the temperature reads of the cities in the list, for the selected time period, every city has to be a different line with a different color, the x axis has to be the timestamp column.\n",
    "#   - Make a histogram of the temperature reads of a list of selected cities, for the selected time period, every city has to be its own distribution with a different color.\n",
    "#   - Make sure that all plots include a title, axis labels and a legend.\n",
    "\n",
    "selected_cities = [\"Munich\", \"Buenos Aires\", \"Tokyo\"]\n",
    "start_date = pd.to_datetime(\"2008-01-01\").date()\n",
    "end_date = pd.to_datetime(\"2010-12-31\").date()\n",
    "\n",
    "\n",
    "plt.figure(figsize=(15, 5))\n",
    "\n",
    "# TODO: Uncomment and complete the following lines to plot the line plot using the city_df_period AvgTemperatureCelsius column as the y axis and the Date column as the x axis\n",
    "\n",
    "# for city in selected_cities:\n",
    "#     city_df = None            # TODO: get a dataframe with the rows of the selected city\n",
    "#     city_df_period = None     # TODO: get a dataframe with the rows of the selected city and the selected period of time using the Date column and any of the <, >, <=, >= operators to compare with start_date and end_date\n",
    "#     plt.plot()                # TODO plot each city line and use the label parameter to set the legend name for each city\n",
    "\n",
    "# plt.title()   # TODO\n",
    "# plt.xlabel()  # TODO\n",
    "# plt.ylabel()  # TODO\n",
    "\n",
    "plt.legend()\n",
    "\n",
    "plt.show()"
   ]
  },
  {
   "cell_type": "code",
   "execution_count": null,
   "metadata": {},
   "outputs": [],
   "source": [
    "# TODO: Build the histogram plot for the selected cities using the city_df_period AvgTemperatureCelsius column as the data to plot for each one\n",
    "\n",
    "plt.figure(figsize=(15, 5))\n",
    "\n",
    "# for city in selected_cities:\n",
    "#     city_df = None            # TODO: get a dataframe with the rows of the selected city\n",
    "#     city_df_period = None     # TODO: get a dataframe with the rows of the selected city and the selected period of time using the Date column and any of the <, >, <=, >= operators to compare with start_date and end_date\n",
    "#     plt.hist()                    # TODO: plot each city histogram in the same plot and use the label parameter to set the legend name for each city \n",
    "\n",
    "# plt.title()   # TODO\n",
    "# plt.xlabel()  # TODO\n",
    "# plt.ylabel()  # TODO\n",
    "\n",
    "plt.legend()\n",
    "\n",
    "plt.show()\n"
   ]
  }
 ],
 "metadata": {
  "kernelspec": {
   "display_name": "venv",
   "language": "python",
   "name": "python3"
  },
  "language_info": {
   "codemirror_mode": {
    "name": "ipython",
    "version": 3
   },
   "file_extension": ".py",
   "mimetype": "text/x-python",
   "name": "python",
   "nbconvert_exporter": "python",
   "pygments_lexer": "ipython3",
   "version": "3.12.1"
  }
 },
 "nbformat": 4,
 "nbformat_minor": 2
}
